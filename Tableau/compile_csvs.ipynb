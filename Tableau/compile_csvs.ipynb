{
 "cells": [
  {
   "cell_type": "code",
   "execution_count": null,
   "metadata": {},
   "outputs": [],
   "source": [
    "import os\n",
    "import pandas as pd"
   ]
  },
  {
   "cell_type": "code",
   "execution_count": null,
   "metadata": {},
   "outputs": [],
   "source": [
    "#Get list of csv file names\n",
    "bike_data_path = 'Monthly_Data'\n",
    "bike_data_file_names = os.listdir(bike_data_path)"
   ]
  },
  {
   "cell_type": "code",
   "execution_count": null,
   "metadata": {},
   "outputs": [],
   "source": [
    "#Get column names from csvs\n",
    "bike_test_df = pd.read_csv(f'Monthly_Data/{bike_data_file_names[0]}')\n",
    "bike_data_columns = bike_test_df.columns.tolist()"
   ]
  },
  {
   "cell_type": "code",
   "execution_count": 4,
   "metadata": {},
   "outputs": [],
   "source": [
    "#Loop through csv file names and add each dataframe to the previously empty dataframe\n",
    "bike_data_complete_df = pd.DataFrame(columns=bike_data_columns)\n",
    "for file in bike_data_file_names:\n",
    "    bike_data = pd.read_csv(f'Monthly_Data/{file}')\n",
    "    bike_data.columns = bike_data_columns\n",
    "    bike_data_complete_df = bike_data_complete_df.append(bike_data,ignore_index=True)"
   ]
  },
  {
   "cell_type": "code",
   "execution_count": 5,
   "metadata": {
    "scrolled": true
   },
   "outputs": [],
   "source": [
    "#Export as csv\n",
    "bike_data_complete_df = bike_data_complete_df.loc[bike_data_complete_df['End Station Latitude']!=0,:]\n",
    "bike_data_complete_df.to_csv('Compiled_Data/bike_data_complete.csv')"
   ]
  },
  {
   "cell_type": "code",
   "execution_count": 6,
   "metadata": {},
   "outputs": [],
   "source": [
    "start_station_names = bike_data_complete_df['Start Station Name'].unique().tolist()\n",
    "end_station_names = bike_data_complete_df['End Station Name'].unique().tolist()"
   ]
  },
  {
   "cell_type": "code",
   "execution_count": null,
   "metadata": {},
   "outputs": [],
   "source": [
    "for end_station in end_station_names:\n",
    "    for start_station in start_station_names:\n",
    "        if end_station == start_station:\n",
    "            print(end_station)"
   ]
  },
  {
   "cell_type": "code",
   "execution_count": 9,
   "metadata": {},
   "outputs": [
    {
     "data": {
      "text/plain": [
       "217"
      ]
     },
     "execution_count": 9,
     "metadata": {},
     "output_type": "execute_result"
    }
   ],
   "source": [
    "len(end_station_names)"
   ]
  },
  {
   "cell_type": "code",
   "execution_count": null,
   "metadata": {},
   "outputs": [],
   "source": []
  },
  {
   "cell_type": "code",
   "execution_count": null,
   "metadata": {},
   "outputs": [],
   "source": []
  }
 ],
 "metadata": {
  "kernelspec": {
   "display_name": "Python 3",
   "language": "python",
   "name": "python3"
  },
  "language_info": {
   "codemirror_mode": {
    "name": "ipython",
    "version": 3
   },
   "file_extension": ".py",
   "mimetype": "text/x-python",
   "name": "python",
   "nbconvert_exporter": "python",
   "pygments_lexer": "ipython3",
   "version": "3.7.4"
  }
 },
 "nbformat": 4,
 "nbformat_minor": 4
}
